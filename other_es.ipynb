{
 "cells": [
  {
   "cell_type": "code",
   "execution_count": 68,
   "id": "60e28e1b-4631-4baa-aa53-fe15f44c87de",
   "metadata": {},
   "outputs": [],
   "source": [
    "\n",
    "# https://gist.github.com/karpathy/77fbb6a8dac5395f1b73e7a89300318d\n",
    "import gym\n",
    "import numpy as np"
   ]
  },
  {
   "cell_type": "code",
   "execution_count": 69,
   "id": "6c2df979-9658-4279-9c83-5b222d5e3d98",
   "metadata": {},
   "outputs": [],
   "source": [
    "\n",
    "\n",
    "env = gym.make('CartPole-v0')"
   ]
  },
  {
   "cell_type": "code",
   "execution_count": 78,
   "id": "a2689662-6bba-4514-b47c-0b22c6787cb3",
   "metadata": {},
   "outputs": [
    {
     "name": "stdout",
     "output_type": "stream",
     "text": [
      "iter 0. weight: [0.84314328 0.10170739 0.86669092 0.41695934], reward: 2.3\n",
      "iter 1. weight: [0.84174082 0.10017531 0.86690512 0.41659573], reward: 2.22\n",
      "iter 2. weight: [0.84335259 0.10180854 0.8699334  0.41926234], reward: 2.24\n",
      "iter 3. weight: [0.84115555 0.10172931 0.86926694 0.41826643], reward: 2.26\n",
      "iter 4. weight: [0.84169442 0.1028776  0.86963211 0.41712597], reward: 2.29\n",
      "iter 5. weight: [0.83951047 0.10195398 0.87069986 0.41820053], reward: 2.22\n",
      "iter 6. weight: [0.83817441 0.10074888 0.86914968 0.41761503], reward: 2.21\n",
      "iter 7. weight: [0.83647646 0.10037401 0.87033432 0.41809612], reward: 2.39\n",
      "iter 8. weight: [0.83509872 0.10008222 0.87062326 0.41933843], reward: 2.23\n",
      "iter 9. weight: [0.83341058 0.0986308  0.87237349 0.42043954], reward: 2.12\n",
      "iter 10. weight: [0.83289562 0.09555721 0.87350369 0.42173511], reward: 2.23\n",
      "iter 11. weight: [0.83327587 0.09629005 0.87435485 0.4228176 ], reward: 2.14\n",
      "iter 12. weight: [0.83291731 0.09525157 0.87483322 0.42295781], reward: 2.28\n",
      "iter 13. weight: [0.83494579 0.09503991 0.87785935 0.42390311], reward: 2.18\n",
      "iter 14. weight: [0.8335327  0.09375283 0.87784255 0.4223903 ], reward: 2.33\n",
      "iter 15. weight: [0.83254702 0.0916816  0.87731491 0.4194645 ], reward: 2.09\n",
      "iter 16. weight: [0.83149648 0.09055522 0.87910735 0.41896612], reward: 2.22\n",
      "iter 17. weight: [0.83027786 0.09073355 0.87915065 0.41925284], reward: 2.21\n",
      "iter 18. weight: [0.83113088 0.08901544 0.87913429 0.41855061], reward: 2.14\n",
      "iter 19. weight: [0.83276542 0.08805275 0.8778968  0.41791329], reward: 2.18\n",
      "iter 20. weight: [0.83417123 0.08703372 0.87952338 0.4181417 ], reward: 2.25\n",
      "iter 21. weight: [0.83332067 0.08710514 0.87922068 0.4155429 ], reward: 2.17\n",
      "iter 22. weight: [0.83560108 0.08461883 0.87725359 0.41300954], reward: 2.22\n",
      "iter 23. weight: [0.83414655 0.08430353 0.87898484 0.41098339], reward: 2.32\n",
      "iter 24. weight: [0.83644028 0.08200272 0.87853913 0.41061964], reward: 2.33\n",
      "iter 25. weight: [0.83774424 0.08465193 0.87744292 0.40858688], reward: 2.18\n",
      "iter 26. weight: [0.84134115 0.08298704 0.87800474 0.41033548], reward: 2.18\n",
      "iter 27. weight: [0.83921977 0.08351764 0.87886379 0.40911939], reward: 2.15\n",
      "iter 28. weight: [0.83968796 0.08333003 0.87800262 0.41000037], reward: 2.22\n",
      "iter 29. weight: [0.83882986 0.08166196 0.87796497 0.4091805 ], reward: 2.35\n",
      "iter 30. weight: [0.83772281 0.0835684  0.87695031 0.40977093], reward: 2.19\n",
      "iter 31. weight: [0.8386539  0.08391158 0.87684245 0.41162681], reward: 2.31\n",
      "iter 32. weight: [0.83842761 0.0810405  0.87497135 0.41256499], reward: 2.29\n",
      "iter 33. weight: [0.84020009 0.08192736 0.87372483 0.41158681], reward: 2.19\n",
      "iter 34. weight: [0.84031339 0.08173023 0.87493705 0.41171781], reward: 2.17\n",
      "iter 35. weight: [0.83854523 0.08151585 0.87594587 0.41081942], reward: 2.17\n",
      "iter 36. weight: [0.83871564 0.079945   0.87577704 0.41117492], reward: 2.22\n",
      "iter 37. weight: [0.83614405 0.08308993 0.87643124 0.4111674 ], reward: 2.35\n",
      "iter 38. weight: [0.83725043 0.08220787 0.87533709 0.4113966 ], reward: 2.23\n",
      "iter 39. weight: [0.83805859 0.08177763 0.87712891 0.41173776], reward: 2.31\n",
      "iter 40. weight: [0.84000434 0.08200639 0.87492652 0.40993113], reward: 2.24\n",
      "iter 41. weight: [0.8374373  0.08427577 0.87409931 0.4086963 ], reward: 2.1\n",
      "iter 42. weight: [0.83650409 0.08283117 0.87578437 0.40925716], reward: 2.17\n",
      "iter 43. weight: [0.83579813 0.08558015 0.87559751 0.4089197 ], reward: 2.26\n",
      "iter 44. weight: [0.83512836 0.08321182 0.87404481 0.40806321], reward: 2.23\n",
      "iter 45. weight: [0.83952936 0.08480319 0.87516291 0.40783629], reward: 2.16\n",
      "iter 46. weight: [0.83966249 0.08548763 0.87336862 0.40454424], reward: 2.33\n",
      "iter 47. weight: [0.839981   0.08927488 0.87626404 0.40485795], reward: 2.2\n",
      "iter 48. weight: [0.84058202 0.08714015 0.87891748 0.40742365], reward: 2.3\n",
      "iter 49. weight: [0.83999556 0.08684196 0.87745678 0.40648687], reward: 2.29\n",
      "iter 50. weight: [0.839846   0.0894396  0.87521606 0.40404424], reward: 2.25\n",
      "iter 51. weight: [0.84033773 0.09047192 0.87657546 0.40508555], reward: 2.28\n",
      "iter 52. weight: [0.83844366 0.09074973 0.87548761 0.4056765 ], reward: 2.23\n",
      "iter 53. weight: [0.83848633 0.09062014 0.87592096 0.40563683], reward: 2.18\n",
      "iter 54. weight: [0.83724478 0.08843744 0.87599502 0.40741685], reward: 2.23\n",
      "iter 55. weight: [0.84025173 0.09048837 0.87790162 0.40882956], reward: 2.34\n",
      "iter 56. weight: [0.83890443 0.08985892 0.87955641 0.40954929], reward: 2.27\n",
      "iter 57. weight: [0.84088923 0.09167592 0.88127917 0.41012408], reward: 2.2\n",
      "iter 58. weight: [0.84401932 0.09290491 0.88060272 0.40968177], reward: 2.15\n",
      "iter 59. weight: [0.84411955 0.09343887 0.87882193 0.4072051 ], reward: 2.15\n",
      "iter 60. weight: [0.84446198 0.09275089 0.88199557 0.4080046 ], reward: 2.23\n",
      "iter 61. weight: [0.84608388 0.08928764 0.88263603 0.4063805 ], reward: 2.25\n",
      "iter 62. weight: [0.84640748 0.08896928 0.88236927 0.40753009], reward: 2.24\n",
      "iter 63. weight: [0.84670153 0.09039064 0.88352213 0.40682782], reward: 2.38\n",
      "iter 64. weight: [0.84515609 0.09430635 0.88259219 0.40815456], reward: 2.2\n",
      "iter 65. weight: [0.84789057 0.0943765  0.87968812 0.4073984 ], reward: 2.36\n",
      "iter 66. weight: [0.84859017 0.09146337 0.87963196 0.40772253], reward: 2.24\n",
      "iter 67. weight: [0.84898075 0.09207338 0.87941952 0.40904623], reward: 2.15\n",
      "iter 68. weight: [0.85175334 0.09200988 0.87852111 0.40915103], reward: 2.26\n",
      "iter 69. weight: [0.85177849 0.08921006 0.87948187 0.41054217], reward: 2.28\n",
      "iter 70. weight: [0.85094526 0.09105254 0.88183454 0.40900846], reward: 2.17\n",
      "iter 71. weight: [0.8514914  0.08888706 0.88244541 0.40697941], reward: 2.2\n",
      "iter 72. weight: [0.85153141 0.08743039 0.88356478 0.40816714], reward: 2.25\n",
      "iter 73. weight: [0.852938   0.08716047 0.88454941 0.40897553], reward: 2.11\n",
      "iter 74. weight: [0.85181042 0.08968647 0.88512721 0.40817366], reward: 2.13\n",
      "iter 75. weight: [0.85216582 0.09007413 0.88392491 0.41104488], reward: 2.18\n",
      "iter 76. weight: [0.85569914 0.09055947 0.88347228 0.41251284], reward: 2.27\n",
      "iter 77. weight: [0.85526787 0.08998664 0.88262873 0.41072556], reward: 2.23\n",
      "iter 78. weight: [0.8532173  0.08938915 0.88068697 0.41024456], reward: 2.3\n",
      "iter 79. weight: [0.85310608 0.08979658 0.88085673 0.41110957], reward: 2.31\n",
      "iter 80. weight: [0.85447323 0.09013149 0.8810244  0.40841366], reward: 2.21\n",
      "iter 81. weight: [0.85585163 0.08922918 0.88238858 0.40746866], reward: 2.24\n",
      "iter 82. weight: [0.85796558 0.09025735 0.87951422 0.40597104], reward: 2.33\n",
      "iter 83. weight: [0.86015925 0.0907841  0.8816367  0.40603728], reward: 2.24\n",
      "iter 84. weight: [0.85985752 0.09203752 0.88270691 0.40361155], reward: 2.16\n",
      "iter 85. weight: [0.86194179 0.09052142 0.88585247 0.40313438], reward: 2.21\n",
      "iter 86. weight: [0.86066134 0.09063823 0.88429372 0.40283323], reward: 2.15\n",
      "iter 87. weight: [0.85877897 0.09023826 0.88324674 0.40101681], reward: 2.2\n",
      "iter 88. weight: [0.85861448 0.08835737 0.88272194 0.40423532], reward: 2.25\n",
      "iter 89. weight: [0.86100056 0.08924952 0.88397759 0.40411259], reward: 2.32\n",
      "iter 90. weight: [0.86115731 0.09017719 0.88597094 0.40494543], reward: 2.25\n",
      "iter 91. weight: [0.8589781  0.08891521 0.88424141 0.40470817], reward: 2.35\n",
      "iter 92. weight: [0.85802542 0.0880971  0.88216797 0.40482242], reward: 2.31\n",
      "iter 93. weight: [0.85960792 0.08721633 0.88259383 0.40396701], reward: 2.23\n",
      "iter 94. weight: [0.86278389 0.08742928 0.88116196 0.40369817], reward: 2.27\n",
      "iter 95. weight: [0.86231038 0.08629218 0.88452319 0.40550032], reward: 2.23\n",
      "iter 96. weight: [0.86093002 0.08528852 0.88587497 0.40520217], reward: 2.24\n",
      "iter 97. weight: [0.86146984 0.08471154 0.88602602 0.40349392], reward: 2.28\n",
      "iter 98. weight: [0.86134358 0.08683923 0.88711354 0.40281314], reward: 2.15\n",
      "iter 99. weight: [0.86062877 0.08371639 0.88699364 0.40175513], reward: 2.2\n"
     ]
    }
   ],
   "source": [
    "\n",
    "def f(env, weight):\n",
    "    total_reward = 0.0\n",
    "    num_run = 100\n",
    "    for t in range(num_run):\n",
    "        observation = env.reset()\n",
    "        for i in range(300):\n",
    "            action = 1 if np.dot(weight, observation) > 0 else 0\n",
    "            \n",
    "            observation, reward, done, info = env.step(action)\n",
    "            total_reward += reward\n",
    "            if done:\n",
    "                break\n",
    "    return total_reward / num_run\n",
    "\n",
    "def evolution_strategy(env):\n",
    "    # hyperparameters\n",
    "    npop = 50 # population size\n",
    "    sigma = 0.1 # noise standard deviation\n",
    "    alpha = 0.001 # learning rate\n",
    "\n",
    "    # start the optimization\n",
    "    weight = np.random.rand(4) # our initial guess is random\n",
    "    for i in range(100):\n",
    "\n",
    "        # print current fitness of the most likely parameter setting\n",
    "        print('iter {}. weight: {}, reward: {}'.format(i, str(weight), f(env, weight)))\n",
    "\n",
    "        # initialize memory for a population of w's, and their rewards\n",
    "        N = np.random.randn(npop, 4) # samples from a normal distribution N(0,1)\n",
    "        R = np.zeros(npop)\n",
    "        for j in range(npop):\n",
    "            w_try = weight + sigma * N[j] # jitter w using gaussian of sigma 0.1\n",
    "            R[j] = f(env, w_try) # evaluate the jittered version\n",
    "\n",
    "        # standardize the rewards to have a gaussian distribution\n",
    "        A = (R - np.mean(R)) / np.std(R)\n",
    "        # perform the parameter update. The matrix multiply below\n",
    "        # is just an efficient way to sum up all the rows of the noise matrix N,\n",
    "        # where each row N[j] is weighted by A[j]\n",
    "        weight = weight + alpha / (npop * sigma) * np.dot(N.T, A)\n",
    "\n",
    "evolution_strategy(env)"
   ]
  },
  {
   "cell_type": "code",
   "execution_count": null,
   "id": "7d04cb17-04e9-4533-8f20-d93b80d35448",
   "metadata": {},
   "outputs": [],
   "source": []
  },
  {
   "cell_type": "code",
   "execution_count": 76,
   "id": "10ecb283-cded-491a-9778-1425dbe2ff9c",
   "metadata": {},
   "outputs": [
    {
     "name": "stdout",
     "output_type": "stream",
     "text": [
      "2.31\n",
      "2.18\n",
      "2.35\n",
      "2.24\n",
      "2.24\n",
      "2.31\n",
      "2.13\n",
      "2.18\n",
      "2.16\n",
      "2.26\n",
      "2.19\n",
      "2.34\n",
      "2.19\n",
      "2.26\n",
      "2.14\n",
      "2.15\n",
      "2.2\n",
      "2.31\n",
      "2.2\n",
      "2.29\n",
      "2.23\n",
      "2.17\n",
      "2.2\n",
      "2.15\n",
      "2.3\n",
      "2.22\n",
      "2.28\n",
      "2.33\n",
      "2.24\n",
      "2.35\n",
      "2.21\n",
      "2.21\n",
      "2.31\n",
      "2.3\n",
      "2.2\n",
      "2.19\n",
      "2.2\n",
      "2.28\n",
      "2.17\n",
      "2.23\n",
      "2.35\n",
      "2.23\n",
      "2.28\n",
      "2.23\n",
      "2.23\n",
      "2.2\n",
      "2.23\n",
      "2.23\n",
      "2.25\n",
      "2.28\n",
      "2.2\n",
      "2.21\n",
      "2.24\n",
      "2.18\n",
      "2.29\n",
      "2.24\n",
      "2.25\n",
      "2.22\n",
      "2.27\n",
      "2.18\n",
      "2.29\n",
      "2.14\n",
      "2.22\n",
      "2.14\n",
      "2.31\n",
      "2.25\n",
      "2.19\n",
      "2.24\n",
      "2.12\n",
      "2.27\n",
      "2.15\n",
      "2.19\n",
      "2.31\n",
      "2.24\n",
      "2.2\n",
      "2.24\n",
      "2.27\n",
      "2.26\n",
      "2.14\n",
      "2.22\n",
      "2.22\n",
      "2.27\n",
      "2.26\n",
      "2.14\n",
      "2.18\n",
      "2.26\n",
      "2.23\n",
      "2.19\n",
      "2.37\n",
      "2.17\n",
      "2.22\n",
      "2.21\n",
      "2.31\n",
      "2.27\n",
      "2.16\n",
      "2.29\n",
      "2.29\n",
      "2.26\n",
      "2.3\n",
      "2.2\n"
     ]
    }
   ],
   "source": [
    "\n",
    "def f(env, weight):\n",
    "    total_reward = 0.0\n",
    "    num_run = 100\n",
    "    for t in range(num_run):\n",
    "        observation = env.reset()\n",
    "        for i in range(300):\n",
    "            action = 1 if np.dot(weight, observation) > 0 else 0\n",
    "            \n",
    "            observation, reward, done, info = env.step(action)\n",
    "            total_reward += reward\n",
    "            if done:\n",
    "                break\n",
    "    return total_reward / num_run\n",
    "\n",
    "ws = np.random.randn(100, 4)\n",
    "rs = []\n",
    "for w in ws:\n",
    "    r = f(env, w)\n",
    "    rs.append(r)\n",
    "    print(r)"
   ]
  },
  {
   "cell_type": "code",
   "execution_count": 22,
   "id": "8797b8b0-0608-4869-ba75-d453cc22edfb",
   "metadata": {},
   "outputs": [],
   "source": [
    "w = ws[np.argmax(rs)]"
   ]
  },
  {
   "cell_type": "code",
   "execution_count": null,
   "id": "9ab6cd28-aec4-4dab-b7d8-df65a19be6d1",
   "metadata": {},
   "outputs": [],
   "source": []
  },
  {
   "cell_type": "code",
   "execution_count": 75,
   "id": "758a7ffe-ed1f-45dc-87e8-1e6ca9be3673",
   "metadata": {},
   "outputs": [
    {
     "data": {
      "text/plain": [
       "(10000.0, 10000.0)"
      ]
     },
     "execution_count": 75,
     "metadata": {},
     "output_type": "execute_result"
    }
   ],
   "source": [
    "g = env.env.gravity\n",
    "m = env.env.masspole\n",
    "g, m"
   ]
  },
  {
   "cell_type": "code",
   "execution_count": null,
   "id": "634b7cb1-a395-4ee7-9961-5fb044b8fe5d",
   "metadata": {},
   "outputs": [],
   "source": []
  },
  {
   "cell_type": "code",
   "execution_count": 72,
   "id": "38b9ca3f-fb93-4c0b-aaf3-0e3ba40552f3",
   "metadata": {},
   "outputs": [
    {
     "name": "stdout",
     "output_type": "stream",
     "text": [
      "0 0\n",
      "200.0\n",
      "0 3\n",
      "124.89\n",
      "0 6\n",
      "11.42\n",
      "0 9\n",
      "2.93\n",
      "3 0\n",
      "200.0\n",
      "3 3\n",
      "110.53\n",
      "3 6\n",
      "10.72\n",
      "3 9\n",
      "2.93\n",
      "6 0\n",
      "200.0\n",
      "6 3\n",
      "46.82\n",
      "6 6\n",
      "6.06\n",
      "6 9\n",
      "2.21\n",
      "9 0\n",
      "170.57\n",
      "9 3\n",
      "31.57\n",
      "9 6\n",
      "6.45\n",
      "9 9\n",
      "2.25\n"
     ]
    }
   ],
   "source": [
    "rs = np.zeros((10, 10))\n",
    "for i, mp in enumerate(np.logspace(-3, 4, 10)):\n",
    "    for j, gp in enumerate(np.logspace(-1, 4, 10)):\n",
    "        env.env.gravity = gp\n",
    "        env.env.masspole = mp\n",
    "        env.env.total_mass = env.env.masspole + env.env.masscart\n",
    "\n",
    "        rs[i, j] = f(env, w)\n",
    "        if i%3==0 and j%3==0:\n",
    "            print(i,j)\n",
    "            print(rs[i, j])\n",
    "        "
   ]
  },
  {
   "cell_type": "code",
   "execution_count": 73,
   "id": "250cd4e3-0ade-43a9-867f-1581e8b749fd",
   "metadata": {},
   "outputs": [
    {
     "data": {
      "text/plain": [
       "array([200.  , 200.  , 177.49, 124.89,  54.41,  24.71,  11.42,   6.69,\n",
       "         4.16,   2.93])"
      ]
     },
     "execution_count": 73,
     "metadata": {},
     "output_type": "execute_result"
    }
   ],
   "source": [
    "rs[0]"
   ]
  },
  {
   "cell_type": "code",
   "execution_count": null,
   "id": "1e47ef4b-de5a-4129-953b-25f7c7f4f967",
   "metadata": {},
   "outputs": [],
   "source": []
  },
  {
   "cell_type": "code",
   "execution_count": 74,
   "id": "5f71b48b-c3bf-446c-96d4-15c2fc154953",
   "metadata": {},
   "outputs": [
    {
     "data": {
      "text/plain": [
       "<matplotlib.colorbar.Colorbar at 0x7fa25ea6dbb0>"
      ]
     },
     "execution_count": 74,
     "metadata": {},
     "output_type": "execute_result"
    },
    {
     "data": {
      "image/png": "[encoded data removed]",
      "text/plain": [
       "<Figure size 432x288 with 2 Axes>"
      ]
     },
     "metadata": {
      "needs_background": "light"
     },
     "output_type": "display_data"
    }
   ],
   "source": [
    "import matplotlib.pyplot as plt\n",
    "plt.imshow(np.log(rs))\n",
    "plt.colorbar()"
   ]
  },
  {
   "cell_type": "code",
   "execution_count": null,
   "id": "598c1e83-8b6c-42d7-8c5e-8f79cf513ff9",
   "metadata": {},
   "outputs": [],
   "source": [
    "\n"
   ]
  },
  {
   "cell_type": "code",
   "execution_count": 86,
   "id": "55069cd8-dc86-4d31-b14d-50b4e8babbbf",
   "metadata": {},
   "outputs": [],
   "source": [
    "a = np.zeros((10,10))\n",
    "\n",
    "for i in range(1001):\n",
    "    a[np.random.randint(low=0, high=10), np.random.randint(low=0, high=10)]+=1\n",
    "    \n",
    "    # if i%100==0:\n",
    "    #     plt.imshow(a)\n",
    "    #     plt.show()"
   ]
  },
  {
   "cell_type": "code",
   "execution_count": 107,
   "id": "8e0df3c7-dc3e-4648-bd6c-b55cbd8c5542",
   "metadata": {},
   "outputs": [
    {
     "data": {
      "image/png": "[encoded data removed]",
      "text/plain": [
       "<Figure size 432x288 with 1 Axes>"
      ]
     },
     "metadata": {
      "needs_background": "light"
     },
     "output_type": "display_data"
    },
    {
     "data": {
      "image/png": "[encoded data removed]",
      "text/plain": [
       "<Figure size 432x288 with 1 Axes>"
      ]
     },
     "metadata": {
      "needs_background": "light"
     },
     "output_type": "display_data"
    }
   ],
   "source": [
    "a = np.zeros((10,10))\n",
    "a[[3, 2, 2, 1, 0], [0, 1, 2, 3, 3]] = 1\n",
    "plt.imshow(a)\n",
    "plt.show()\n",
    "a = np.zeros((10,10))\n",
    "a[[5, 6, 5, 4, 3], [2, 3, 4, 4, 5]] = 1\n",
    "# a[[7, 6, 5, 4, 3, 2, 1, 0], [0, 1, 2, 3, 4, 5, 6, 7]] = 1\n",
    "\n",
    "plt.imshow(a)\n",
    "plt.show()"
   ]
  },
  {
   "cell_type": "code",
   "execution_count": null,
   "id": "4814c46b-67c1-4703-98a3-1d77bec66b14",
   "metadata": {},
   "outputs": [],
   "source": []
  },
  {
   "cell_type": "code",
   "execution_count": null,
   "id": "2119774c-5844-4c7b-93f3-8cca2c4b6ccb",
   "metadata": {},
   "outputs": [],
   "source": []
  },
  {
   "cell_type": "code",
   "execution_count": null,
   "id": "09236e8a-9b0e-44dd-9088-74fa7e36da7e",
   "metadata": {},
   "outputs": [],
   "source": []
  },
  {
   "cell_type": "code",
   "execution_count": null,
   "id": "356c5fbc-7135-435d-8664-620d2b04c263",
   "metadata": {},
   "outputs": [],
   "source": []
  },
  {
   "cell_type": "code",
   "execution_count": null,
   "id": "6211d3a7-e99f-4481-b01b-98b72bb0cd64",
   "metadata": {},
   "outputs": [],
   "source": []
  },
  {
   "cell_type": "code",
   "execution_count": 7,
   "id": "0dacfa59-2913-4ffe-acfb-fe4c28a6f162",
   "metadata": {},
   "outputs": [],
   "source": [
    "import torch"
   ]
  },
  {
   "cell_type": "code",
   "execution_count": null,
   "id": "b213219c-d6bb-427f-8d5c-067f113b3d07",
   "metadata": {},
   "outputs": [],
   "source": []
  },
  {
   "cell_type": "code",
   "execution_count": 9,
   "id": "2907157f-041c-4394-9cf4-f280ceb6fa13",
   "metadata": {},
   "outputs": [
    {
     "name": "stdout",
     "output_type": "stream",
     "text": [
      "1.29 µs ± 31.1 ns per loop (mean ± std. dev. of 7 runs, 1000000 loops each)\n"
     ]
    }
   ],
   "source": [
    "%%timeit\n",
    "\n",
    "a = np.zeros(1000)"
   ]
  },
  {
   "cell_type": "code",
   "execution_count": 10,
   "id": "339895b4-0de5-4f90-ad68-cbf96600dfa3",
   "metadata": {},
   "outputs": [
    {
     "name": "stdout",
     "output_type": "stream",
     "text": [
      "3.83 µs ± 108 ns per loop (mean ± std. dev. of 7 runs, 100000 loops each)\n"
     ]
    }
   ],
   "source": [
    "%%timeit\n",
    "\n",
    "a = np.zeros(1000)\n",
    "a = torch.from_numpy(a)\n",
    "a = a.numpy()"
   ]
  },
  {
   "cell_type": "code",
   "execution_count": null,
   "id": "95642c6b-2d5f-4cf1-b5fd-b51d1ad5ddad",
   "metadata": {},
   "outputs": [],
   "source": []
  },
  {
   "cell_type": "code",
   "execution_count": null,
   "id": "8086527c-9957-481e-89fb-3add7df89d37",
   "metadata": {},
   "outputs": [],
   "source": []
  },
  {
   "cell_type": "code",
   "execution_count": null,
   "id": "959fd621-2a97-4ed1-988f-2d4259e226e8",
   "metadata": {},
   "outputs": [],
   "source": []
  }
 ],
 "metadata": {
  "kernelspec": {
   "display_name": "Python 3 (ipykernel)",
   "language": "python",
   "name": "python3"
  },
  "language_info": {
   "codemirror_mode": {
    "name": "ipython",
    "version": 3
   },
   "file_extension": ".py",
   "mimetype": "text/x-python",
   "name": "python",
   "nbconvert_exporter": "python",
   "pygments_lexer": "ipython3",
   "version": "3.9.5"
  }
 },
 "nbformat": 4,
 "nbformat_minor": 5
}
