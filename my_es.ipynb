{
 "cells": [
  {
   "cell_type": "code",
   "execution_count": 21,
   "id": "27a22b58-382f-4e75-b878-9bcbdf72adf1",
   "metadata": {},
   "outputs": [],
   "source": [
    "import gym\n",
    "\n",
    "import numpy as np\n",
    "import torch\n",
    "from torch import nn\n",
    "from torch.distributions import Categorical\n",
    "import matplotlib.pyplot as plt"
   ]
  },
  {
   "cell_type": "code",
   "execution_count": null,
   "id": "02cffe56-1e8d-4193-b296-cbf420ed2fd9",
   "metadata": {},
   "outputs": [],
   "source": []
  },
  {
   "cell_type": "code",
   "execution_count": null,
   "id": "b87c491f-bb80-45e0-9caf-ea4fae43c3ed",
   "metadata": {},
   "outputs": [],
   "source": []
  },
  {
   "cell_type": "code",
   "execution_count": null,
   "id": "63f652cf-b459-49fb-9e31-96343107b1e4",
   "metadata": {},
   "outputs": [],
   "source": []
  },
  {
   "cell_type": "code",
   "execution_count": 22,
   "id": "297b83f1-e0e3-4e9d-b21a-a8d808970d9d",
   "metadata": {},
   "outputs": [],
   "source": [
    "env = gym.make('CartPole-v0')"
   ]
  },
  {
   "cell_type": "code",
   "execution_count": null,
   "id": "d191ff19-c8c3-4004-a6d8-ca3e1f6f7dc6",
   "metadata": {},
   "outputs": [],
   "source": []
  },
  {
   "cell_type": "code",
   "execution_count": 23,
   "id": "276fd533-0b6b-4535-95ce-eb3f9ce171fe",
   "metadata": {},
   "outputs": [
    {
     "data": {
      "text/plain": [
       "2"
      ]
     },
     "execution_count": 23,
     "metadata": {},
     "output_type": "execute_result"
    }
   ],
   "source": [
    "env.action_space.n"
   ]
  },
  {
   "cell_type": "code",
   "execution_count": 24,
   "id": "20cc9ee5-0692-455c-b8bd-9fe1772d1d6d",
   "metadata": {},
   "outputs": [
    {
     "data": {
      "text/plain": [
       "Box([-4.8000002e+00 -3.4028235e+38 -4.1887903e-01 -3.4028235e+38], [4.8000002e+00 3.4028235e+38 4.1887903e-01 3.4028235e+38], (4,), float32)"
      ]
     },
     "execution_count": 24,
     "metadata": {},
     "output_type": "execute_result"
    }
   ],
   "source": [
    "env.observation_space"
   ]
  },
  {
   "cell_type": "code",
   "execution_count": null,
   "id": "7cd7ff89-6f88-426b-b3ea-4b81ca128bb2",
   "metadata": {},
   "outputs": [],
   "source": []
  },
  {
   "cell_type": "code",
   "execution_count": 25,
   "id": "0dcc58fe-107e-40ee-8778-11f3e2e469ee",
   "metadata": {},
   "outputs": [],
   "source": [
    "state_shape, action_shape = env.observation_space.shape, (2,)"
   ]
  },
  {
   "cell_type": "code",
   "execution_count": 26,
   "id": "f791168c-c101-4ee9-a033-0252446585f3",
   "metadata": {},
   "outputs": [
    {
     "data": {
      "text/plain": [
       "Discrete(2)"
      ]
     },
     "execution_count": 26,
     "metadata": {},
     "output_type": "execute_result"
    }
   ],
   "source": [
    "env.action_space"
   ]
  },
  {
   "cell_type": "code",
   "execution_count": null,
   "id": "e4925f49-010e-4da8-8e71-dbc87868dc06",
   "metadata": {},
   "outputs": [],
   "source": []
  },
  {
   "cell_type": "code",
   "execution_count": 51,
   "id": "6a1a9ecd-a30e-4315-8884-6cea966db80a",
   "metadata": {},
   "outputs": [],
   "source": [
    "class Net(nn.Module):\n",
    "    def __init__(self, state_shape, action_shape):\n",
    "        super().__init__()\n",
    "        self.model = nn.Sequential(\n",
    "            nn.Linear(np.prod(state_shape), 16), nn.ReLU(inplace=True),\n",
    "            nn.Linear(16, 30), nn.ReLU(inplace=True),\n",
    "            nn.Linear(30, 30), nn.ReLU(inplace=True),\n",
    "            nn.Linear(30, np.prod(action_shape)),\n",
    "        )\n",
    "        \n",
    "    def forward(self, obs):\n",
    "        if not isinstance(obs, torch.Tensor):\n",
    "            obs = torch.tensor(obs, dtype=torch.float)\n",
    "        batch = obs.shape[0]\n",
    "        logits = self.model(obs.view(batch, -1))\n",
    "        return logits\n",
    "    \n",
    "    def calc_action(self, obs):\n",
    "        bs = obs.shape[:-1]\n",
    "        obs = obs.reshape(-1, obs.shape[-1])\n",
    "        logits = self.forward(obs)\n",
    "        m = Categorical(logits.softmax(-1))\n",
    "        action = m.sample()\n",
    "        return action.reshape(*bs, 1).numpy()\n",
    "\n",
    "class Net(nn.Module):\n",
    "    def __init__(self, state_shape, action_shape):\n",
    "        super().__init__()\n",
    "        self.model = nn.Sequential(\n",
    "            nn.Linear(np.prod(state_shape), 1),\n",
    "        )\n",
    "        \n",
    "    def forward(self, obs):\n",
    "        if not isinstance(obs, torch.Tensor):\n",
    "            obs = torch.tensor(obs, dtype=torch.float)\n",
    "        batch = obs.shape[0]\n",
    "        logits = self.model(obs.view(batch, -1))\n",
    "        return logits\n",
    "    \n",
    "    def calc_action(self, obs):\n",
    "        # obs = obs.reshape(1, obs.shape[-1])\n",
    "        logits = self.forward(obs[None])[0].item()\n",
    "        action = 1 if logits>0 else 0\n",
    "        return np.array(action)[None]\n",
    "    \n",
    "def random_policy():\n",
    "    net = Net(state_shape, action_shape)\n",
    "    # optim = torch.optim.Adam(net.parameters(), lr=1e-3)\n",
    "    # policy = ts.policy.DQNPolicy(net, optim, discount_factor=0.9, estimation_step=3, target_update_freq=320)\n",
    "    return net"
   ]
  },
  {
   "cell_type": "code",
   "execution_count": 52,
   "id": "159950f2-ede5-4388-9bb9-e5e4f0e800a0",
   "metadata": {},
   "outputs": [],
   "source": [
    "agent = random_policy()"
   ]
  },
  {
   "cell_type": "code",
   "execution_count": null,
   "id": "70ba7738-0722-4d5e-9204-23b2616fe672",
   "metadata": {},
   "outputs": [],
   "source": []
  },
  {
   "cell_type": "code",
   "execution_count": 53,
   "id": "efed3002-625a-4df5-836d-a76390e9aa08",
   "metadata": {},
   "outputs": [],
   "source": [
    "# %%time\n",
    "import gym\n",
    "env = gym.make('CartPole-v0')\n",
    "r = 0\n",
    "for i_episode in range(100):\n",
    "    obs = env.reset()\n",
    "    for t in range(100):\n",
    "        action = agent.calc_action(obs)[0]\n",
    "        obs, reward, done, info = env.step(action)\n",
    "        if done:\n",
    "            break\n",
    "        r+=1\n",
    "env.close()"
   ]
  },
  {
   "cell_type": "code",
   "execution_count": 54,
   "id": "e72898ee-05fa-41f7-afcf-a54cf7f18fdd",
   "metadata": {},
   "outputs": [
    {
     "data": {
      "text/plain": [
       "1971"
      ]
     },
     "execution_count": 54,
     "metadata": {},
     "output_type": "execute_result"
    }
   ],
   "source": [
    "r"
   ]
  },
  {
   "cell_type": "code",
   "execution_count": null,
   "id": "8cb5f545-5643-47d2-a070-92804fb1ce08",
   "metadata": {},
   "outputs": [],
   "source": []
  },
  {
   "cell_type": "code",
   "execution_count": 55,
   "id": "a2bdfaae-1d39-446f-a849-a5db72714365",
   "metadata": {},
   "outputs": [],
   "source": [
    "def run_agent(env, agent, n_episodes=None, n_trans=None):\n",
    "    obs = env.reset()\n",
    "    \n",
    "    rs_eps = []\n",
    "    rs = []\n",
    "    \n",
    "    i = 0\n",
    "    while (n_episodes is not None and i<n_episodes) or (n_trans is not None and i<n_trans):\n",
    "        action = agent.calc_action(obs)[0]\n",
    "        obs, reward, done, info = env.step(action)\n",
    "        rs.append(reward)\n",
    "        \n",
    "        if done:\n",
    "            obs = env.reset()\n",
    "            rs_eps.append(rs)\n",
    "            rs = []\n",
    "            \n",
    "            if n_episodes is not None:\n",
    "                i+=1\n",
    "                \n",
    "        if n_trans is not None:\n",
    "            i+=1\n",
    "    rs_eps.append(rs)\n",
    "            \n",
    "    return np.array([np.sum(rs) for rs in rs_eps]), [np.array(rs) for rs in rs_eps]\n",
    "    \n",
    "\n",
    "r, _ = run_agent(env, agent, n_trans=1000)"
   ]
  },
  {
   "cell_type": "code",
   "execution_count": null,
   "id": "417a041f-3b04-447f-97f3-ba05b3e9e40b",
   "metadata": {},
   "outputs": [],
   "source": []
  },
  {
   "cell_type": "code",
   "execution_count": null,
   "id": "83b8fc44-fb2f-4473-9a90-67018f52121e",
   "metadata": {},
   "outputs": [],
   "source": []
  },
  {
   "cell_type": "code",
   "execution_count": null,
   "id": "f83efa03-fd11-4ef1-beaa-f71166d84237",
   "metadata": {},
   "outputs": [],
   "source": []
  },
  {
   "cell_type": "code",
   "execution_count": 57,
   "id": "a5eced30-012c-4a76-8ae1-e61a7ed1af2c",
   "metadata": {},
   "outputs": [
    {
     "name": "stdout",
     "output_type": "stream",
     "text": [
      "torch.Size([5])\n",
      "77.57148742675781\n",
      "70.43228149414062\n",
      "76.85861206054688\n",
      "76.88138580322266\n",
      "91.90811157226562\n",
      "98.66375732421875\n",
      "91.12118530273438\n",
      "101.0101089477539\n",
      "109.3673324584961\n",
      "97.78672790527344\n",
      "95.45445251464844\n",
      "98.8166275024414\n",
      "101.55445098876953\n",
      "107.7499008178711\n"
     ]
    },
    {
     "ename": "KeyboardInterrupt",
     "evalue": "",
     "output_type": "error",
     "traceback": [
      "\u001b[0;31m---------------------------------------------------------------------------\u001b[0m",
      "\u001b[0;31mKeyboardInterrupt\u001b[0m                         Traceback (most recent call last)",
      "\u001b[0;32m/var/folders/fk/0sthbc6s2zbd1kyry1yjdxzw0000gn/T/ipykernel_14070/1249504798.py\u001b[0m in \u001b[0;36m<module>\u001b[0;34m\u001b[0m\n\u001b[1;32m     22\u001b[0m \u001b[0;34m\u001b[0m\u001b[0m\n\u001b[1;32m     23\u001b[0m \u001b[0magent\u001b[0m \u001b[0;34m=\u001b[0m \u001b[0mrandom_policy\u001b[0m\u001b[0;34m(\u001b[0m\u001b[0;34m)\u001b[0m\u001b[0;34m\u001b[0m\u001b[0;34m\u001b[0m\u001b[0m\n\u001b[0;32m---> 24\u001b[0;31m \u001b[0mtrain_es\u001b[0m\u001b[0;34m(\u001b[0m\u001b[0magent\u001b[0m\u001b[0;34m,\u001b[0m \u001b[0menv\u001b[0m\u001b[0;34m,\u001b[0m \u001b[0;36m100\u001b[0m\u001b[0;34m,\u001b[0m \u001b[0;36m50\u001b[0m\u001b[0;34m,\u001b[0m \u001b[0;36m1000\u001b[0m\u001b[0;34m)\u001b[0m\u001b[0;34m\u001b[0m\u001b[0;34m\u001b[0m\u001b[0m\n\u001b[0m",
      "\u001b[0;32m/var/folders/fk/0sthbc6s2zbd1kyry1yjdxzw0000gn/T/ipykernel_14070/1249504798.py\u001b[0m in \u001b[0;36mtrain_es\u001b[0;34m(agent, env, n_step, n_pop, n_trans)\u001b[0m\n\u001b[1;32m     11\u001b[0m         \u001b[0;32mfor\u001b[0m \u001b[0mthetap\u001b[0m \u001b[0;32min\u001b[0m \u001b[0mtheta_dev\u001b[0m\u001b[0;34m:\u001b[0m\u001b[0;34m\u001b[0m\u001b[0;34m\u001b[0m\u001b[0m\n\u001b[1;32m     12\u001b[0m             \u001b[0mnn\u001b[0m\u001b[0;34m.\u001b[0m\u001b[0mutils\u001b[0m\u001b[0;34m.\u001b[0m\u001b[0mvector_to_parameters\u001b[0m\u001b[0;34m(\u001b[0m\u001b[0mthetap\u001b[0m\u001b[0;34m,\u001b[0m \u001b[0magent\u001b[0m\u001b[0;34m.\u001b[0m\u001b[0mparameters\u001b[0m\u001b[0;34m(\u001b[0m\u001b[0;34m)\u001b[0m\u001b[0;34m)\u001b[0m\u001b[0;34m\u001b[0m\u001b[0;34m\u001b[0m\u001b[0m\n\u001b[0;32m---> 13\u001b[0;31m             \u001b[0mr\u001b[0m\u001b[0;34m,\u001b[0m \u001b[0m_\u001b[0m \u001b[0;34m=\u001b[0m \u001b[0mrun_agent\u001b[0m\u001b[0;34m(\u001b[0m\u001b[0menv\u001b[0m\u001b[0;34m,\u001b[0m \u001b[0magent\u001b[0m\u001b[0;34m,\u001b[0m \u001b[0mn_episodes\u001b[0m\u001b[0;34m=\u001b[0m\u001b[0;36m100\u001b[0m\u001b[0;34m,\u001b[0m \u001b[0mn_trans\u001b[0m\u001b[0;34m=\u001b[0m\u001b[0;32mNone\u001b[0m\u001b[0;34m)\u001b[0m\u001b[0;34m\u001b[0m\u001b[0;34m\u001b[0m\u001b[0m\n\u001b[0m\u001b[1;32m     14\u001b[0m             \u001b[0mr\u001b[0m \u001b[0;34m=\u001b[0m \u001b[0mr\u001b[0m\u001b[0;34m.\u001b[0m\u001b[0mmean\u001b[0m\u001b[0;34m(\u001b[0m\u001b[0;34m)\u001b[0m\u001b[0;34m\u001b[0m\u001b[0;34m\u001b[0m\u001b[0m\n\u001b[1;32m     15\u001b[0m             \u001b[0mrs\u001b[0m\u001b[0;34m.\u001b[0m\u001b[0mappend\u001b[0m\u001b[0;34m(\u001b[0m\u001b[0mr\u001b[0m\u001b[0;34m)\u001b[0m\u001b[0;34m\u001b[0m\u001b[0;34m\u001b[0m\u001b[0m\n",
      "\u001b[0;32m/var/folders/fk/0sthbc6s2zbd1kyry1yjdxzw0000gn/T/ipykernel_14070/17553071.py\u001b[0m in \u001b[0;36mrun_agent\u001b[0;34m(env, agent, n_episodes, n_trans)\u001b[0m\n\u001b[1;32m      7\u001b[0m     \u001b[0mi\u001b[0m \u001b[0;34m=\u001b[0m \u001b[0;36m0\u001b[0m\u001b[0;34m\u001b[0m\u001b[0;34m\u001b[0m\u001b[0m\n\u001b[1;32m      8\u001b[0m     \u001b[0;32mwhile\u001b[0m \u001b[0;34m(\u001b[0m\u001b[0mn_episodes\u001b[0m \u001b[0;32mis\u001b[0m \u001b[0;32mnot\u001b[0m \u001b[0;32mNone\u001b[0m \u001b[0;32mand\u001b[0m \u001b[0mi\u001b[0m\u001b[0;34m<\u001b[0m\u001b[0mn_episodes\u001b[0m\u001b[0;34m)\u001b[0m \u001b[0;32mor\u001b[0m \u001b[0;34m(\u001b[0m\u001b[0mn_trans\u001b[0m \u001b[0;32mis\u001b[0m \u001b[0;32mnot\u001b[0m \u001b[0;32mNone\u001b[0m \u001b[0;32mand\u001b[0m \u001b[0mi\u001b[0m\u001b[0;34m<\u001b[0m\u001b[0mn_trans\u001b[0m\u001b[0;34m)\u001b[0m\u001b[0;34m:\u001b[0m\u001b[0;34m\u001b[0m\u001b[0;34m\u001b[0m\u001b[0m\n\u001b[0;32m----> 9\u001b[0;31m         \u001b[0maction\u001b[0m \u001b[0;34m=\u001b[0m \u001b[0magent\u001b[0m\u001b[0;34m.\u001b[0m\u001b[0mcalc_action\u001b[0m\u001b[0;34m(\u001b[0m\u001b[0mobs\u001b[0m\u001b[0;34m)\u001b[0m\u001b[0;34m[\u001b[0m\u001b[0;36m0\u001b[0m\u001b[0;34m]\u001b[0m\u001b[0;34m\u001b[0m\u001b[0;34m\u001b[0m\u001b[0m\n\u001b[0m\u001b[1;32m     10\u001b[0m         \u001b[0mobs\u001b[0m\u001b[0;34m,\u001b[0m \u001b[0mreward\u001b[0m\u001b[0;34m,\u001b[0m \u001b[0mdone\u001b[0m\u001b[0;34m,\u001b[0m \u001b[0minfo\u001b[0m \u001b[0;34m=\u001b[0m \u001b[0menv\u001b[0m\u001b[0;34m.\u001b[0m\u001b[0mstep\u001b[0m\u001b[0;34m(\u001b[0m\u001b[0maction\u001b[0m\u001b[0;34m)\u001b[0m\u001b[0;34m\u001b[0m\u001b[0;34m\u001b[0m\u001b[0m\n\u001b[1;32m     11\u001b[0m         \u001b[0mrs\u001b[0m\u001b[0;34m.\u001b[0m\u001b[0mappend\u001b[0m\u001b[0;34m(\u001b[0m\u001b[0mreward\u001b[0m\u001b[0;34m)\u001b[0m\u001b[0;34m\u001b[0m\u001b[0;34m\u001b[0m\u001b[0m\n",
      "\u001b[0;32m/var/folders/fk/0sthbc6s2zbd1kyry1yjdxzw0000gn/T/ipykernel_14070/2748982530.py\u001b[0m in \u001b[0;36mcalc_action\u001b[0;34m(self, obs)\u001b[0m\n\u001b[1;32m     40\u001b[0m     \u001b[0;32mdef\u001b[0m \u001b[0mcalc_action\u001b[0m\u001b[0;34m(\u001b[0m\u001b[0mself\u001b[0m\u001b[0;34m,\u001b[0m \u001b[0mobs\u001b[0m\u001b[0;34m)\u001b[0m\u001b[0;34m:\u001b[0m\u001b[0;34m\u001b[0m\u001b[0;34m\u001b[0m\u001b[0m\n\u001b[1;32m     41\u001b[0m         \u001b[0;31m# obs = obs.reshape(1, obs.shape[-1])\u001b[0m\u001b[0;34m\u001b[0m\u001b[0;34m\u001b[0m\u001b[0;34m\u001b[0m\u001b[0m\n\u001b[0;32m---> 42\u001b[0;31m         \u001b[0mlogits\u001b[0m \u001b[0;34m=\u001b[0m \u001b[0mself\u001b[0m\u001b[0;34m.\u001b[0m\u001b[0mforward\u001b[0m\u001b[0;34m(\u001b[0m\u001b[0mobs\u001b[0m\u001b[0;34m[\u001b[0m\u001b[0;32mNone\u001b[0m\u001b[0;34m]\u001b[0m\u001b[0;34m)\u001b[0m\u001b[0;34m[\u001b[0m\u001b[0;36m0\u001b[0m\u001b[0;34m]\u001b[0m\u001b[0;34m.\u001b[0m\u001b[0mitem\u001b[0m\u001b[0;34m(\u001b[0m\u001b[0;34m)\u001b[0m\u001b[0;34m\u001b[0m\u001b[0;34m\u001b[0m\u001b[0m\n\u001b[0m\u001b[1;32m     43\u001b[0m         \u001b[0maction\u001b[0m \u001b[0;34m=\u001b[0m \u001b[0;36m1\u001b[0m \u001b[0;32mif\u001b[0m \u001b[0mlogits\u001b[0m\u001b[0;34m>\u001b[0m\u001b[0;36m0\u001b[0m \u001b[0;32melse\u001b[0m \u001b[0;36m0\u001b[0m\u001b[0;34m\u001b[0m\u001b[0;34m\u001b[0m\u001b[0m\n\u001b[1;32m     44\u001b[0m         \u001b[0;32mreturn\u001b[0m \u001b[0mnp\u001b[0m\u001b[0;34m.\u001b[0m\u001b[0marray\u001b[0m\u001b[0;34m(\u001b[0m\u001b[0maction\u001b[0m\u001b[0;34m)\u001b[0m\u001b[0;34m[\u001b[0m\u001b[0;32mNone\u001b[0m\u001b[0;34m]\u001b[0m\u001b[0;34m\u001b[0m\u001b[0;34m\u001b[0m\u001b[0m\n",
      "\u001b[0;31mKeyboardInterrupt\u001b[0m: "
     ]
    }
   ],
   "source": [
    "def train_es(agent, env, n_step, n_pop, n_trans):\n",
    "    theta = nn.utils.parameters_to_vector(agent.parameters()).detach()\n",
    "    print(theta.shape)\n",
    "    sigma = 1e-1\n",
    "    alpha = 1e-3\n",
    "    \n",
    "    for i in range(n_step):\n",
    "        eps = torch.randn(n_pop, theta.shape[0])\n",
    "        theta_dev = theta+sigma*eps\n",
    "        rs = []\n",
    "        for thetap in theta_dev:\n",
    "            nn.utils.vector_to_parameters(thetap, agent.parameters())\n",
    "            r, _ = run_agent(env, agent, n_episodes=100, n_trans=None)\n",
    "            r = r.mean()\n",
    "            rs.append(r)\n",
    "        rs = torch.tensor(rs, dtype=torch.float32)\n",
    "        print(rs.mean().item())\n",
    "        rs = (rs-rs.mean())/rs.std()\n",
    "        # print(rs.shape)\n",
    "        theta += alpha/n_pop/sigma * (rs[:, None]*eps).sum(dim=0)\n",
    "        # print(rs.mean())\n",
    "\n",
    "agent = random_policy()\n",
    "train_es(agent, env, 100, 50, 1000)"
   ]
  },
  {
   "cell_type": "code",
   "execution_count": null,
   "id": "a611db15-248a-4eeb-a1fb-a14117f8b063",
   "metadata": {},
   "outputs": [],
   "source": []
  },
  {
   "cell_type": "code",
   "execution_count": null,
   "id": "ecc29ef7-f52f-4d00-ad8a-6f5cb3014c3a",
   "metadata": {},
   "outputs": [],
   "source": []
  },
  {
   "cell_type": "code",
   "execution_count": null,
   "id": "b7657762-d403-4d49-b944-dc044d96ce63",
   "metadata": {},
   "outputs": [],
   "source": []
  },
  {
   "cell_type": "code",
   "execution_count": null,
   "id": "01adf277-9786-439e-94c7-0aa19013664d",
   "metadata": {},
   "outputs": [],
   "source": []
  },
  {
   "cell_type": "code",
   "execution_count": null,
   "id": "eda7681a-e11f-49fe-82f8-cae7e841c6e3",
   "metadata": {},
   "outputs": [],
   "source": []
  },
  {
   "cell_type": "markdown",
   "id": "e0a88c91-3c68-42de-8e86-002c1c113c01",
   "metadata": {},
   "source": [
    "\n",
    "$\\sigma \\epsilon$\n",
    "\n"
   ]
  },
  {
   "cell_type": "code",
   "execution_count": null,
   "id": "fb5e4949-ab52-4bf3-b2c0-d7b58b993962",
   "metadata": {},
   "outputs": [],
   "source": []
  },
  {
   "cell_type": "code",
   "execution_count": null,
   "id": "5c30a332-61b3-4b2d-af52-a8ad89d18c1b",
   "metadata": {},
   "outputs": [],
   "source": []
  },
  {
   "cell_type": "code",
   "execution_count": null,
   "id": "8c293352-021c-4f5a-b1ef-f2910b64e9ee",
   "metadata": {},
   "outputs": [],
   "source": []
  }
 ],
 "metadata": {
  "kernelspec": {
   "display_name": "Python 3 (ipykernel)",
   "language": "python",
   "name": "python3"
  },
  "language_info": {
   "codemirror_mode": {
    "name": "ipython",
    "version": 3
   },
   "file_extension": ".py",
   "mimetype": "text/x-python",
   "name": "python",
   "nbconvert_exporter": "python",
   "pygments_lexer": "ipython3",
   "version": "3.9.5"
  }
 },
 "nbformat": 4,
 "nbformat_minor": 5
}
